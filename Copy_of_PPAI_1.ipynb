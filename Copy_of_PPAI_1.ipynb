{
  "nbformat": 4,
  "nbformat_minor": 0,
  "metadata": {
    "colab": {
      "provenance": []
    },
    "kernelspec": {
      "name": "python3",
      "display_name": "Python 3"
    },
    "language_info": {
      "name": "python"
    }
  },
  "cells": [
    {
      "cell_type": "markdown",
      "source": [
        "# Practical 1:\n",
        "> ## Simple Chatbot In Python\n",
        "\n",
        "Submitted By:\n",
        "- Aman Kumar\n",
        "- 2019UCO1634\n",
        "- CoE - 2"
      ],
      "metadata": {
        "id": "CoWzF2kcnATu"
      }
    },
    {
      "cell_type": "code",
      "source": [
        "!pip install pip==21.3.1\n",
        "!pip install chatterbot\n",
        "!pip install chatterbot-corpus"
      ],
      "metadata": {
        "id": "MnGDdKLpIEVZ",
        "colab": {
          "base_uri": "https://localhost:8080/",
          "height": 1000
        },
        "outputId": "30cec652-a9f2-4eab-bcf1-c9bbd489915b"
      },
      "execution_count": 1,
      "outputs": [
        {
          "output_type": "stream",
          "name": "stdout",
          "text": [
            "Looking in indexes: https://pypi.org/simple, https://us-python.pkg.dev/colab-wheels/public/simple/\n",
            "Collecting pip==21.3.1\n",
            "  Downloading pip-21.3.1-py3-none-any.whl (1.7 MB)\n",
            "\u001b[2K     \u001b[90m━━━━━━━━━━━━━━━━━━━━━━━━━━━━━━━━━━━━━━━━\u001b[0m \u001b[32m1.7/1.7 MB\u001b[0m \u001b[31m20.3 MB/s\u001b[0m eta \u001b[36m0:00:00\u001b[0m\n",
            "\u001b[?25hInstalling collected packages: pip\n",
            "  Attempting uninstall: pip\n",
            "    Found existing installation: pip 23.0.1\n",
            "    Uninstalling pip-23.0.1:\n",
            "      Successfully uninstalled pip-23.0.1\n",
            "Successfully installed pip-21.3.1\n",
            "Looking in indexes: https://pypi.org/simple, https://us-python.pkg.dev/colab-wheels/public/simple/\n",
            "Collecting chatterbot\n",
            "  Downloading ChatterBot-1.0.5-py2.py3-none-any.whl (67 kB)\n",
            "     |████████████████████████████████| 67 kB 3.0 MB/s             \n",
            "\u001b[?25hCollecting pymongo<4.0,>=3.3\n",
            "  Downloading pymongo-3.13.0-cp39-cp39-manylinux_2_17_x86_64.manylinux2014_x86_64.whl (515 kB)\n",
            "     |████████████████████████████████| 515 kB 10.9 MB/s            \n",
            "\u001b[?25hCollecting sqlalchemy<1.3,>=1.2\n",
            "  Downloading SQLAlchemy-1.2.19.tar.gz (5.7 MB)\n",
            "     |████████████████████████████████| 5.7 MB 56.3 MB/s            \n",
            "\u001b[?25h  Preparing metadata (setup.py) ... \u001b[?25l\u001b[?25hdone\n",
            "Collecting spacy<2.2,>=2.1\n",
            "  Downloading spacy-2.1.9.tar.gz (30.7 MB)\n",
            "     |████████████████████████████████| 30.7 MB 1.3 MB/s             \n",
            "\u001b[?25h  Installing build dependencies ... \u001b[?25l\u001b[?25herror\n",
            "\u001b[33mWARNING: Discarding https://files.pythonhosted.org/packages/1f/e2/46650d03c7ff2b57ed7af211d41c3f606540f7adea92b5af65fcf9f605c0/spacy-2.1.9.tar.gz#sha256=62f4a9ddb9a8074d1669db85850738d76fbb1184404c191eb6e8f0dde888d4e2 (from https://pypi.org/simple/spacy/) (requires-python:>=2.7,!=3.0.*,!=3.1.*,!=3.2.*,!=3.3.*). Command errored out with exit status 1: /usr/bin/python3 /tmp/pip-standalone-pip-ijmxi4xv/__env_pip__.zip/pip install --ignore-installed --no-user --prefix /tmp/pip-build-env-bvx4n5b2/overlay --no-warn-script-location -v --no-binary :none: --only-binary :none: -i https://pypi.org/simple --extra-index-url https://us-python.pkg.dev/colab-wheels/public/simple/ -- setuptools 'wheel>0.32.0,<0.33.0' Cython 'cymem>=2.0.2,<2.1.0' 'preshed>=2.0.1,<2.1.0' 'murmurhash>=0.28.0,<1.1.0' 'thinc>=7.0.8,<7.1.0' Check the logs for full command output.\u001b[0m\n",
            "  Downloading spacy-2.1.8.tar.gz (30.7 MB)\n",
            "     |████████████████████████████████| 30.7 MB 1.3 MB/s             \n",
            "\u001b[?25h  Installing build dependencies ... \u001b[?25l\u001b[?25herror\n",
            "\u001b[33mWARNING: Discarding https://files.pythonhosted.org/packages/58/f2/5a23bb7251988da474eec844b692760cb0a317912291afc77b516f399cff/spacy-2.1.8.tar.gz#sha256=9c510459a66703739d6ba6c958fcff2627399dd813829a020d5644b532034ab6 (from https://pypi.org/simple/spacy/) (requires-python:>=2.7,!=3.0.*,!=3.1.*,!=3.2.*,!=3.3.*). Command errored out with exit status 1: /usr/bin/python3 /tmp/pip-standalone-pip-75a43mok/__env_pip__.zip/pip install --ignore-installed --no-user --prefix /tmp/pip-build-env-1r8lg0e6/overlay --no-warn-script-location -v --no-binary :none: --only-binary :none: -i https://pypi.org/simple --extra-index-url https://us-python.pkg.dev/colab-wheels/public/simple/ -- setuptools 'wheel>0.32.0,<0.33.0' Cython 'cymem>=2.0.2,<2.1.0' 'preshed>=2.0.1,<2.1.0' 'murmurhash>=0.28.0,<1.1.0' 'thinc>=7.0.8,<7.1.0' Check the logs for full command output.\u001b[0m\n",
            "  Downloading spacy-2.1.7.tar.gz (30.7 MB)\n",
            "     |████████████████████████████████| 30.7 MB 1.3 MB/s             \n",
            "\u001b[?25h  Installing build dependencies ... \u001b[?25l\u001b[?25herror\n",
            "\u001b[33mWARNING: Discarding https://files.pythonhosted.org/packages/f1/04/f25cdc3cb6d143ef397c23718026aff606c3e558cbd4939e9e4cb0a4b515/spacy-2.1.7.tar.gz#sha256=10b208898231153c67da4f2a34462eba201d0014b131de25565cb56b6582934c (from https://pypi.org/simple/spacy/) (requires-python:>=2.7,!=3.0.*,!=3.1.*,!=3.2.*,!=3.3.*). Command errored out with exit status 1: /usr/bin/python3 /tmp/pip-standalone-pip-_h9enb5h/__env_pip__.zip/pip install --ignore-installed --no-user --prefix /tmp/pip-build-env-1c4rxsbf/overlay --no-warn-script-location -v --no-binary :none: --only-binary :none: -i https://pypi.org/simple --extra-index-url https://us-python.pkg.dev/colab-wheels/public/simple/ -- setuptools 'wheel>0.32.0.<0.33.0' Cython 'cymem>=2.0.2,<2.1.0' 'preshed>=2.0.1,<2.1.0' 'murmurhash>=0.28.0,<1.1.0' 'thinc>=7.0.8,<7.1.0' Check the logs for full command output.\u001b[0m\n",
            "  Downloading spacy-2.1.6.tar.gz (30.7 MB)\n",
            "     |████████████████████████████████| 30.7 MB 1.2 MB/s             \n",
            "\u001b[?25h  Installing build dependencies ... \u001b[?25l\u001b[?25herror\n",
            "\u001b[33mWARNING: Discarding https://files.pythonhosted.org/packages/a7/84/f35f44560f0ab9ef23c4a334a513f2b6c8a95d7b3347ef68a0247da63c08/spacy-2.1.6.tar.gz#sha256=b708bb5825976220de78ad7e20e827912ca95653738a812cc2e5d194e3060ae8 (from https://pypi.org/simple/spacy/) (requires-python:>=2.7,!=3.0.*,!=3.1.*,!=3.2.*,!=3.3.*). Command errored out with exit status 1: /usr/bin/python3 /tmp/pip-standalone-pip-dhunjlqn/__env_pip__.zip/pip install --ignore-installed --no-user --prefix /tmp/pip-build-env-sdjr1j5j/overlay --no-warn-script-location -v --no-binary :none: --only-binary :none: -i https://pypi.org/simple --extra-index-url https://us-python.pkg.dev/colab-wheels/public/simple/ -- setuptools 'wheel>0.32.0.<0.33.0' Cython 'cymem>=2.0.2,<2.1.0' 'preshed>=2.0.1,<2.1.0' 'murmurhash>=0.28.0,<1.1.0' 'thinc>=7.0.8,<7.1.0' Check the logs for full command output.\u001b[0m\n",
            "  Downloading spacy-2.1.5.tar.gz (30.7 MB)\n",
            "     |████████████████████████████████| 30.7 MB 1.1 MB/s             \n",
            "\u001b[?25h  Installing build dependencies ... \u001b[?25l\u001b[?25herror\n",
            "\u001b[33mWARNING: Discarding https://files.pythonhosted.org/packages/a1/02/ca0613a585adb599f2ac8b37bba4f0f99ed24e947b0054a199be0196185f/spacy-2.1.5.tar.gz#sha256=8c48ee04ecea14de861f27315538b1068863617394fed882c5ad4ae72f8c8622 (from https://pypi.org/simple/spacy/) (requires-python:>=2.7,!=3.0.*,!=3.1.*,!=3.2.*,!=3.3.*). Command errored out with exit status 1: /usr/bin/python3 /tmp/pip-standalone-pip-sbv1os4q/__env_pip__.zip/pip install --ignore-installed --no-user --prefix /tmp/pip-build-env-438enifp/overlay --no-warn-script-location -v --no-binary :none: --only-binary :none: -i https://pypi.org/simple --extra-index-url https://us-python.pkg.dev/colab-wheels/public/simple/ -- setuptools 'wheel>0.32.0.<0.33.0' Cython 'cymem>=2.0.2,<2.1.0' 'preshed>=2.0.1,<2.1.0' 'murmurhash>=0.28.0,<1.1.0' 'thinc>=7.0.8,<7.1.0' Check the logs for full command output.\u001b[0m\n",
            "  Downloading spacy-2.1.4.tar.gz (29.8 MB)\n",
            "     |████████████████████████████████| 29.8 MB 1.2 MB/s             \n",
            "\u001b[?25h  Installing build dependencies ... \u001b[?25l\u001b[?25herror\n",
            "\u001b[33mWARNING: Discarding https://files.pythonhosted.org/packages/56/30/977e6dec3a42f3dc035631f0db5fe69a573f29fdbc7977226eab18f2f5f6/spacy-2.1.4.tar.gz#sha256=0d80b079c2badb741723bb99e866adb06ff0cff067435fbac8f862a55261a40e (from https://pypi.org/simple/spacy/) (requires-python:>=2.7,!=3.0.*,!=3.1.*,!=3.2.*,!=3.3.*). Command errored out with exit status 1: /usr/bin/python3 /tmp/pip-standalone-pip-7kbawir0/__env_pip__.zip/pip install --ignore-installed --no-user --prefix /tmp/pip-build-env-hb7xu5gf/overlay --no-warn-script-location -v --no-binary :none: --only-binary :none: -i https://pypi.org/simple --extra-index-url https://us-python.pkg.dev/colab-wheels/public/simple/ -- setuptools 'wheel>0.32.0.<0.33.0' Cython 'cymem>=2.0.2,<2.1.0' 'preshed>=2.0.1,<2.1.0' 'murmurhash>=0.28.0,<1.1.0' thinc==7.0.0.dev6 Check the logs for full command output.\u001b[0m\n",
            "  Downloading spacy-2.1.3.tar.gz (27.7 MB)\n",
            "     |████████████████████████████████| 27.7 MB 1.2 MB/s             \n",
            "\u001b[?25h  Installing build dependencies ... \u001b[?25l\u001b[?25herror\n",
            "\u001b[33mWARNING: Discarding https://files.pythonhosted.org/packages/77/f3/eb5aece989ecca541c4b5a439cb8a86fe5254b1521925b547609fb3aaf64/spacy-2.1.3.tar.gz#sha256=b1b86ddf6142fa2782b2e0269d040430ae5696eb0224f3e99408897cac7bb506 (from https://pypi.org/simple/spacy/) (requires-python:>=2.7,!=3.0.*,!=3.1.*,!=3.2.*,!=3.3.*). Command errored out with exit status 1: /usr/bin/python3 /tmp/pip-standalone-pip-i075w_ll/__env_pip__.zip/pip install --ignore-installed --no-user --prefix /tmp/pip-build-env-1o0j4s23/overlay --no-warn-script-location -v --no-binary :none: --only-binary :none: -i https://pypi.org/simple --extra-index-url https://us-python.pkg.dev/colab-wheels/public/simple/ -- setuptools 'wheel>0.32.0.<0.33.0' Cython 'cymem>=2.0.2,<2.1.0' 'preshed>=2.0.1,<2.1.0' 'murmurhash>=0.28.0,<1.1.0' thinc==7.0.0.dev6 Check the logs for full command output.\u001b[0m\n",
            "  Downloading spacy-2.1.2.tar.gz (27.7 MB)\n",
            "     |████████████████████████████████| 27.7 MB 1.2 MB/s             \n",
            "\u001b[?25h  Installing build dependencies ... \u001b[?25l\u001b[?25herror\n",
            "\u001b[33mWARNING: Discarding https://files.pythonhosted.org/packages/37/7f/acc98091fbb1a48e0632558cfbd340d53d7f2b6a6a55b2205ef5ff15f4ca/spacy-2.1.2.tar.gz#sha256=4ae3b8c5924ed5db764549a32b7dd821ecaf824e96dcf747302adda3dfbe9e06 (from https://pypi.org/simple/spacy/) (requires-python:>=2.7,!=3.0.*,!=3.1.*,!=3.2.*,!=3.3.*). Command errored out with exit status 1: /usr/bin/python3 /tmp/pip-standalone-pip-o1euxscv/__env_pip__.zip/pip install --ignore-installed --no-user --prefix /tmp/pip-build-env-kq9lqyp2/overlay --no-warn-script-location -v --no-binary :none: --only-binary :none: -i https://pypi.org/simple --extra-index-url https://us-python.pkg.dev/colab-wheels/public/simple/ -- setuptools 'wheel>0.32.0.<0.33.0' Cython 'cymem>=2.0.2,<2.1.0' 'preshed>=2.0.1,<2.1.0' 'murmurhash>=0.28.0,<1.1.0' thinc==7.0.0.dev6 Check the logs for full command output.\u001b[0m\n",
            "  Downloading spacy-2.1.1.tar.gz (27.7 MB)\n",
            "     |████████████████████████████████| 27.7 MB 1.3 MB/s             \n",
            "\u001b[?25h  Installing build dependencies ... \u001b[?25l\u001b[?25herror\n",
            "\u001b[33mWARNING: Discarding https://files.pythonhosted.org/packages/07/02/ef131c958721f46fa72915124e088364ba7696d2efd6d0e8f44b27250f17/spacy-2.1.1.tar.gz#sha256=809561162007bdda8a8a07cded52983e848b1a83de6dc3e8b025007bbcdb3994 (from https://pypi.org/simple/spacy/) (requires-python:>=2.7,!=3.0.*,!=3.1.*,!=3.2.*,!=3.3.*). Command errored out with exit status 1: /usr/bin/python3 /tmp/pip-standalone-pip-8z8gi07c/__env_pip__.zip/pip install --ignore-installed --no-user --prefix /tmp/pip-build-env-9__igvxi/overlay --no-warn-script-location -v --no-binary :none: --only-binary :none: -i https://pypi.org/simple --extra-index-url https://us-python.pkg.dev/colab-wheels/public/simple/ -- setuptools 'wheel>0.32.0.<0.33.0' Cython 'cymem>=2.0.2,<2.1.0' 'preshed>=2.0.1,<2.1.0' 'murmurhash>=0.28.0,<1.1.0' thinc==7.0.0.dev6 Check the logs for full command output.\u001b[0m\n",
            "  Downloading spacy-2.1.0.tar.gz (27.7 MB)\n",
            "     |████████████████████████████████| 27.7 MB 82.3 MB/s            \n",
            "\u001b[?25h  Installing build dependencies ... \u001b[?25l\u001b[?25herror\n",
            "\u001b[33mWARNING: Discarding https://files.pythonhosted.org/packages/ce/5e/8f21b3f32ea3566764d1c90f4360703be7d1739ed7b51cbf89bed00fa331/spacy-2.1.0.tar.gz#sha256=e3dbde5b560fb9dd3706bd6838e66e28119b6aa17bcb0711d53e95c830bcf0a7 (from https://pypi.org/simple/spacy/) (requires-python:>=2.7,!=3.0.*,!=3.1.*,!=3.2.*,!=3.3.*). Command errored out with exit status 1: /usr/bin/python3 /tmp/pip-standalone-pip-uhzqeyut/__env_pip__.zip/pip install --ignore-installed --no-user --prefix /tmp/pip-build-env-ahfi6ke9/overlay --no-warn-script-location -v --no-binary :none: --only-binary :none: -i https://pypi.org/simple --extra-index-url https://us-python.pkg.dev/colab-wheels/public/simple/ -- setuptools 'wheel>0.32.0.<0.33.0' Cython 'cymem>=2.0.2,<2.1.0' 'preshed>=2.0.1,<2.1.0' 'murmurhash>=0.28.0,<1.1.0' thinc==7.0.0.dev6 Check the logs for full command output.\u001b[0m\n",
            "Collecting chatterbot\n",
            "  Downloading ChatterBot-1.0.4-py2.py3-none-any.whl (66 kB)\n",
            "     |████████████████████████████████| 66 kB 3.4 MB/s             \n",
            "\u001b[?25hCollecting chatterbot-corpus<1.3,>=1.2\n",
            "  Downloading chatterbot_corpus-1.2.0-py2.py3-none-any.whl (117 kB)\n",
            "     |████████████████████████████████| 117 kB 43.0 MB/s            \n",
            "\u001b[?25hCollecting python-dateutil<2.8,>=2.7\n",
            "  Downloading python_dateutil-2.7.5-py2.py3-none-any.whl (225 kB)\n",
            "     |████████████████████████████████| 225 kB 54.7 MB/s            \n",
            "\u001b[?25hCollecting pint>=0.8.1\n",
            "  Downloading Pint-0.20.1-py3-none-any.whl (269 kB)\n",
            "     |████████████████████████████████| 269 kB 55.1 MB/s            \n",
            "\u001b[?25hCollecting mathparse<0.2,>=0.1\n",
            "  Downloading mathparse-0.1.2-py3-none-any.whl (7.2 kB)\n",
            "Requirement already satisfied: nltk<4.0,>=3.2 in /usr/local/lib/python3.9/dist-packages (from chatterbot) (3.8.1)\n",
            "Collecting PyYAML<4.0,>=3.12\n",
            "  Downloading PyYAML-3.13.tar.gz (270 kB)\n",
            "     |████████████████████████████████| 270 kB 53.1 MB/s            \n",
            "\u001b[?25h  Preparing metadata (setup.py) ... \u001b[?25l\u001b[?25hdone\n",
            "Requirement already satisfied: regex>=2021.8.3 in /usr/local/lib/python3.9/dist-packages (from nltk<4.0,>=3.2->chatterbot) (2022.10.31)\n",
            "Requirement already satisfied: joblib in /usr/local/lib/python3.9/dist-packages (from nltk<4.0,>=3.2->chatterbot) (1.2.0)\n",
            "Requirement already satisfied: tqdm in /usr/local/lib/python3.9/dist-packages (from nltk<4.0,>=3.2->chatterbot) (4.65.0)\n",
            "Requirement already satisfied: click in /usr/local/lib/python3.9/dist-packages (from nltk<4.0,>=3.2->chatterbot) (8.1.3)\n",
            "Requirement already satisfied: six>=1.5 in /usr/local/lib/python3.9/dist-packages (from python-dateutil<2.8,>=2.7->chatterbot) (1.16.0)\n",
            "Building wheels for collected packages: sqlalchemy, PyYAML\n",
            "  Building wheel for sqlalchemy (setup.py) ... \u001b[?25l\u001b[?25hdone\n",
            "  Created wheel for sqlalchemy: filename=SQLAlchemy-1.2.19-cp39-cp39-linux_x86_64.whl size=1157817 sha256=532972a6b39440b60cf35d05a330323d435a2aecf438f16033adafc5f6e63333\n",
            "  Stored in directory: /root/.cache/pip/wheels/12/75/ee/52355e3658b18c812a419a7fdf581ab885b01c0675e25e9b01\n",
            "  Building wheel for PyYAML (setup.py) ... \u001b[?25l\u001b[?25hdone\n",
            "  Created wheel for PyYAML: filename=PyYAML-3.13-cp39-cp39-linux_x86_64.whl size=43098 sha256=ca48071c012b61dedb34fdaec2f521dd159d5bfadeda15b96888e771aac8ee35\n",
            "  Stored in directory: /root/.cache/pip/wheels/81/6e/87/725bed1db7f86e1c7091ef5f4a4f11b0fcf7023c2be4fc29db\n",
            "Successfully built sqlalchemy PyYAML\n",
            "Installing collected packages: PyYAML, sqlalchemy, python-dateutil, pymongo, pint, mathparse, chatterbot-corpus, chatterbot\n",
            "  Attempting uninstall: PyYAML\n",
            "    Found existing installation: PyYAML 6.0\n",
            "    Uninstalling PyYAML-6.0:\n",
            "      Successfully uninstalled PyYAML-6.0\n",
            "  Attempting uninstall: sqlalchemy\n",
            "    Found existing installation: SQLAlchemy 2.0.9\n",
            "    Uninstalling SQLAlchemy-2.0.9:\n",
            "      Successfully uninstalled SQLAlchemy-2.0.9\n",
            "  Attempting uninstall: python-dateutil\n",
            "    Found existing installation: python-dateutil 2.8.2\n",
            "    Uninstalling python-dateutil-2.8.2:\n",
            "      Successfully uninstalled python-dateutil-2.8.2\n",
            "\u001b[31mERROR: pip's dependency resolver does not currently take into account all the packages that are installed. This behaviour is the source of the following dependency conflicts.\n",
            "prophet 1.1.2 requires python-dateutil>=2.8.0, but you have python-dateutil 2.7.5 which is incompatible.\n",
            "pandas 1.5.3 requires python-dateutil>=2.8.1, but you have python-dateutil 2.7.5 which is incompatible.\n",
            "flax 0.6.8 requires PyYAML>=5.4.1, but you have pyyaml 3.13 which is incompatible.\n",
            "dask 2022.12.1 requires pyyaml>=5.3.1, but you have pyyaml 3.13 which is incompatible.\u001b[0m\n",
            "Successfully installed PyYAML-3.13 chatterbot-1.0.4 chatterbot-corpus-1.2.0 mathparse-0.1.2 pint-0.20.1 pymongo-3.13.0 python-dateutil-2.7.5 sqlalchemy-1.2.19\n",
            "\u001b[33mWARNING: Running pip as the 'root' user can result in broken permissions and conflicting behaviour with the system package manager. It is recommended to use a virtual environment instead: https://pip.pypa.io/warnings/venv\u001b[0m\n"
          ]
        },
        {
          "output_type": "display_data",
          "data": {
            "application/vnd.colab-display-data+json": {
              "pip_warning": {
                "packages": [
                  "dateutil"
                ]
              }
            }
          },
          "metadata": {}
        },
        {
          "output_type": "stream",
          "name": "stdout",
          "text": [
            "Looking in indexes: https://pypi.org/simple, https://us-python.pkg.dev/colab-wheels/public/simple/\n",
            "Requirement already satisfied: chatterbot-corpus in /usr/local/lib/python3.9/dist-packages (1.2.0)\n",
            "Requirement already satisfied: PyYAML<4.0,>=3.12 in /usr/local/lib/python3.9/dist-packages (from chatterbot-corpus) (3.13)\n",
            "\u001b[33mWARNING: Running pip as the 'root' user can result in broken permissions and conflicting behaviour with the system package manager. It is recommended to use a virtual environment instead: https://pip.pypa.io/warnings/venv\u001b[0m\n"
          ]
        }
      ]
    },
    {
      "cell_type": "code",
      "source": [
        "from chatterbot import ChatBot\n",
        "from chatterbot.trainers import ChatterBotCorpusTrainer\n",
        "\n",
        "chatbot = ChatBot(\"Simple Chatbot\")\n",
        "trainer = ChatterBotCorpusTrainer(chatbot)\n",
        "trainer.train(\"chatterbot.corpus.english\")\n",
        "\n",
        "# define a function to handle user inputs and generate chatbot responses\n",
        "def chat():\n",
        "    print(\"Hello! I am Chatbot. How can I help you today?\")\n",
        "    while True:\n",
        "        user_input = input().lower()  # convert user input to lowercase\n",
        "        if user_input == \"quit\":\n",
        "            print(\"Goodbye!\")\n",
        "            break\n",
        "        response = chatbot.get_response(user_input)\n",
        "        print(response)\n",
        "\n",
        "# call the chat function to start the conversation\n",
        "chat()\n"
      ],
      "metadata": {
        "id": "UjazyGEaGKPM",
        "colab": {
          "base_uri": "https://localhost:8080/"
        },
        "outputId": "c5287aa6-8284-48a1-d6e2-8e63876f9051"
      },
      "execution_count": 2,
      "outputs": [
        {
          "output_type": "stream",
          "name": "stderr",
          "text": [
            "[nltk_data] Downloading package averaged_perceptron_tagger to\n",
            "[nltk_data]     /root/nltk_data...\n",
            "[nltk_data]   Unzipping taggers/averaged_perceptron_tagger.zip.\n",
            "[nltk_data] Downloading package punkt to /root/nltk_data...\n",
            "[nltk_data]   Unzipping tokenizers/punkt.zip.\n",
            "[nltk_data] Downloading package stopwords to /root/nltk_data...\n",
            "[nltk_data]   Unzipping corpora/stopwords.zip.\n",
            "[nltk_data] Downloading package wordnet to /root/nltk_data...\n"
          ]
        },
        {
          "output_type": "stream",
          "name": "stdout",
          "text": [
            "Training ai.yml: [####################] 100%\n",
            "Training botprofile.yml: [####################] 100%\n",
            "Training computers.yml: [####################] 100%\n",
            "Training conversations.yml: [####################] 100%\n",
            "Training emotion.yml: [####################] 100%\n",
            "Training food.yml: [####################] 100%\n",
            "Training gossip.yml: [####################] 100%\n",
            "Training greetings.yml: [####################] 100%\n",
            "Training health.yml: [####################] 100%\n",
            "Training history.yml: [####################] 100%\n",
            "Training humor.yml: [####################] 100%\n",
            "Training literature.yml: [####################] 100%\n",
            "Training money.yml: [####################] 100%\n",
            "Training movies.yml: [####################] 100%\n",
            "Training politics.yml: [####################] 100%\n",
            "Training psychology.yml: [####################] 100%\n",
            "Training science.yml: [####################] 100%\n",
            "Training sports.yml: [####################] 100%\n",
            "Training trivia.yml: [####################] 100%\n",
            "Hello! I am Chatbot. How can I help you today?\n",
            "Could you tell me your name?\n",
            "what do you get when you cross a pig and a ninja?\n",
            "I don't know! Do you\n",
            "wrote the iliad and the odyssey.\n",
            "Hi\n",
            "How are you doing?\n",
            "I am fine! How are you??\n",
            "what is your favorite stock\n",
            "I don't know! What is yours?\n",
            "wrote the iliad and the odyssey.\n",
            "quit\n",
            "Goodbye!\n"
          ]
        }
      ]
    },
    {
      "cell_type": "code",
      "source": [],
      "metadata": {
        "id": "cFJ5pIQ-mz6D"
      },
      "execution_count": null,
      "outputs": []
    }
  ]
}